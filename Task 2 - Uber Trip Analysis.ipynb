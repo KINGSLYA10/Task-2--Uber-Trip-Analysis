{
 "cells": [
  {
   "cell_type": "code",
   "execution_count": 6,
   "metadata": {},
   "outputs": [],
   "source": [
    "import pandas as pd \n",
    "import matplotlib.pyplot as plt\n",
    "\n",
    "uber_df = pd.read_csv(\"uber-raw-data-sep14.csv\")\n",
    "\n",
    "print(\"First 5 records:\")\n",
    "print(uber_df.head(5))\n",
    "\n",
    "print(\"\\nLast 5 records:\")\n",
    "print(uber_df.tail(5))\n",
    "\n",
    "print(\"\\nDataset shape:\", uber_df.shape)\n",
    "\n",
    "print(\"\\nDataset information:\")\n",
    "print(uber_df.info())\n",
    "\n",
    "uber_df['Date/Time'] = pd.to_datetime(uber_df['Date/Time'])\n",
    "\n",
    "uber_df[\"Day\"] = uber_df[\"Date/Time\"].dt.day\n",
    "uber_df[\"Hour\"] = uber_df[\"Date/Time\"].dt.hour\n",
    "uber_df[\"Weekday\"] = uber_df[\"Date/Time\"].dt.weekday\n",
    "\n",
    "plt.figure(figsize=(12, 6))\n",
    "plt.hist(uber_df.Day, width=0.6, bins=30)\n",
    "plt.title(\"Density of trips per Day\", fontsize=16)\n",
    "plt.xlabel(\"Day\", fontsize=14)\n",
    "plt.ylabel(\"Density of rides\", fontsize=14)\n",
    "plt.show()\n",
    "\n",
    "plt.figure(figsize=(12, 6))\n",
    "plt.hist(uber_df.Weekday, width=0.6, range=(0, 6.5), bins=7, color=\"green\")\n",
    "plt.title(\"Density of trips per Weekday\", fontsize=16)\n",
    "plt.xlabel(\"Weekday\", fontsize=14)\n",
    "plt.ylabel(\"Density of rides\", fontsize=14)\n",
    "plt.show()\n",
    "\n",
    "plt.figure(figsize=(12, 6))\n",
    "plt.hist(uber_df.Hour, width=0.6, bins=24, color=\"orange\")\n",
    "plt.title(\"Density of trips per Hour\", fontsize=16)\n",
    "plt.xlabel(\"Hour\", fontsize=14)\n",
    "plt.ylabel(\"Density of rides\", fontsize=14)\n",
    "plt.show()\n",
    "\n",
    "plt.figure(figsize=(12, 6))\n",
    "plt.scatter(uber_df['Lon'], uber_df['Lat'], color=\"purple\", alpha=0.5)\n",
    "plt.title(\"Density of trips per Location\", fontsize=16)\n",
    "plt.xlabel(\"Longitude\", fontsize=14)\n",
    "plt.ylabel(\"Latitude\", fontsize=14)\n",
    "plt.show()\n"
   ]
  }
 ],
 "metadata": {
  "kernelspec": {
   "display_name": "Python 3 (ipykernel)",
   "language": "python",
   "name": "python3"
  },
  "language_info": {
   "codemirror_mode": {
    "name": "ipython",
    "version": 3
   },
   "file_extension": ".py",
   "mimetype": "text/x-python",
   "name": "python",
   "nbconvert_exporter": "python",
   "pygments_lexer": "ipython3",
   "version": "3.11.3"
  }
 },
 "nbformat": 4,
 "nbformat_minor": 2
}
